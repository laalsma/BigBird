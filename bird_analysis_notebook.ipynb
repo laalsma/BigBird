{
 "cells": [
  {
   "metadata": {},
   "cell_type": "markdown",
   "source": "BigBird Analysis Notebook",
   "id": "294bd80a49c686b1"
  },
  {
   "metadata": {},
   "cell_type": "markdown",
   "source": "We need to import the analysis functions from bird_functions.py. Right now this file just contains a single function.",
   "id": "1c19b39fb32b98c9"
  },
  {
   "metadata": {
    "ExecuteTime": {
     "end_time": "2024-08-08T20:58:00.902967Z",
     "start_time": "2024-08-08T20:58:00.895950Z"
    }
   },
   "cell_type": "code",
   "source": "from analysis_functions import species_observed_by",
   "id": "727d9d7cae047b3f",
   "outputs": [],
   "execution_count": 15
  },
  {
   "metadata": {},
   "cell_type": "markdown",
   "source": "The file life_list.csv contains observations by Alice, Bob and Charlie. We can analyze their observations. First, we can display the unique observations by either Alice, Bob or Charlie. This gives the union of their observations.",
   "id": "93c30ee77b5cc56b"
  },
  {
   "metadata": {
    "ExecuteTime": {
     "end_time": "2024-08-08T20:58:04.447863Z",
     "start_time": "2024-08-08T20:58:04.348622Z"
    }
   },
   "cell_type": "code",
   "source": "species_observed_by('Alice','Bob','Charlie')",
   "id": "bd1e42b79b2c298c",
   "outputs": [
    {
     "data": {
      "text/plain": [
       "{'American Robin',\n",
       " 'Downy Woodpecker',\n",
       " 'Mallard',\n",
       " 'Northern Cardinal',\n",
       " 'White-breasted Nuthatch'}"
      ]
     },
     "execution_count": 16,
     "metadata": {},
     "output_type": "execute_result"
    }
   ],
   "execution_count": 16
  },
  {
   "metadata": {},
   "cell_type": "markdown",
   "source": "Or we can consider the union of observations of a subset.",
   "id": "2a5500fd17d26893"
  },
  {
   "metadata": {
    "ExecuteTime": {
     "end_time": "2024-08-08T20:58:08.654234Z",
     "start_time": "2024-08-08T20:58:08.541038Z"
    }
   },
   "cell_type": "code",
   "source": "species_observed_by('Bob','Charlie')",
   "id": "da25581405c5db6e",
   "outputs": [
    {
     "data": {
      "text/plain": [
       "{'Downy Woodpecker', 'Northern Cardinal', 'White-breasted Nuthatch'}"
      ]
     },
     "execution_count": 17,
     "metadata": {},
     "output_type": "execute_result"
    }
   ],
   "execution_count": 17
  },
  {
   "metadata": {},
   "cell_type": "markdown",
   "source": "We can also consider the intersection of different observation lists.",
   "id": "5b3758bbe4c75f9f"
  },
  {
   "metadata": {
    "ExecuteTime": {
     "end_time": "2024-08-08T20:58:21.101947Z",
     "start_time": "2024-08-08T20:58:20.937363Z"
    }
   },
   "cell_type": "code",
   "source": "species_observed_by('Alice')&species_observed_by('Bob')",
   "id": "f91e5b6002da392b",
   "outputs": [
    {
     "data": {
      "text/plain": [
       "{'Northern Cardinal', 'White-breasted Nuthatch'}"
      ]
     },
     "execution_count": 19,
     "metadata": {},
     "output_type": "execute_result"
    }
   ],
   "execution_count": 19
  },
  {
   "metadata": {},
   "cell_type": "markdown",
   "source": "Additionally, we can consider the symmetric difference between two sets. This is useful for example when we want to know if there are birds only seen by a particular person. To do so, it is useful to first write a little function that checks if a bird is in a set:",
   "id": "f7528f095b8ef4b8"
  },
  {
   "metadata": {
    "ExecuteTime": {
     "end_time": "2024-08-08T21:00:52.922173Z",
     "start_time": "2024-08-08T21:00:52.918854Z"
    }
   },
   "cell_type": "code",
   "source": [
    "def only_observation(person,sym_diff):\n",
    "    only_set = set()\n",
    "    for bird in sym_diff:\n",
    "        if bird in species_observed_by(person):\n",
    "            only_set.add(bird)\n",
    "    return only_set "
   ],
   "id": "19d6d7eb6a34e005",
   "outputs": [],
   "execution_count": 21
  },
  {
   "metadata": {},
   "cell_type": "markdown",
   "source": "Now we compute the symmetric difference between two sets. These are the birds seen only by Alice OR Bob, but not both.",
   "id": "c41b30a286167cb4"
  },
  {
   "metadata": {
    "ExecuteTime": {
     "end_time": "2024-08-08T21:02:50.176815Z",
     "start_time": "2024-08-08T21:02:50.019436Z"
    }
   },
   "cell_type": "code",
   "source": [
    "symmetric_difference = species_observed_by('Alice')^(species_observed_by('Bob'))\n",
    "print(symmetric_difference)"
   ],
   "id": "fa734ec347425dad",
   "outputs": [
    {
     "name": "stdout",
     "output_type": "stream",
     "text": [
      "{'Mallard', 'American Robin', 'Downy Woodpecker'}\n"
     ]
    }
   ],
   "execution_count": 23
  },
  {
   "metadata": {},
   "cell_type": "markdown",
   "source": "Using the function only_observation(), we can compute which person made these observations.",
   "id": "9825f26215477732"
  },
  {
   "metadata": {
    "ExecuteTime": {
     "end_time": "2024-08-08T21:04:22.768956Z",
     "start_time": "2024-08-08T21:04:22.524027Z"
    }
   },
   "cell_type": "code",
   "source": "only_observation('Alice',symmetric_difference)",
   "id": "7f1305e7e38fc722",
   "outputs": [
    {
     "data": {
      "text/plain": [
       "{'American Robin', 'Mallard'}"
      ]
     },
     "execution_count": 24,
     "metadata": {},
     "output_type": "execute_result"
    }
   ],
   "execution_count": 24
  },
  {
   "metadata": {
    "ExecuteTime": {
     "end_time": "2024-08-08T21:04:41.394019Z",
     "start_time": "2024-08-08T21:04:41.151113Z"
    }
   },
   "cell_type": "code",
   "source": "only_observation('Bob',symmetric_difference)",
   "id": "4eba493a056d0f36",
   "outputs": [
    {
     "data": {
      "text/plain": [
       "{'Downy Woodpecker'}"
      ]
     },
     "execution_count": 26,
     "metadata": {},
     "output_type": "execute_result"
    }
   ],
   "execution_count": 26
  },
  {
   "metadata": {},
   "cell_type": "markdown",
   "source": "The life list also contains date and location information that can be analyzed. This analysis will be added in the future. ",
   "id": "3ee802b4d8c37af5"
  }
 ],
 "metadata": {
  "kernelspec": {
   "display_name": "Python 3",
   "language": "python",
   "name": "python3"
  },
  "language_info": {
   "codemirror_mode": {
    "name": "ipython",
    "version": 2
   },
   "file_extension": ".py",
   "mimetype": "text/x-python",
   "name": "python",
   "nbconvert_exporter": "python",
   "pygments_lexer": "ipython2",
   "version": "2.7.6"
  }
 },
 "nbformat": 4,
 "nbformat_minor": 5
}
